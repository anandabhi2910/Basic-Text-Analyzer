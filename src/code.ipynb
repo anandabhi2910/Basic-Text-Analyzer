{
 "cells": [
  {
   "cell_type": "code",
   "execution_count": 22,
   "id": "d15a169f",
   "metadata": {},
   "outputs": [],
   "source": [
    "import os\n",
    "import pandas as pd\n",
    "import numpy as np\n",
    "import re\n",
    "import nltk\n",
    "from nltk.corpus import stopwords\n",
    "from nltk.stem import WordNetLemmatizer\n",
    "from nltk.tokenize import word_tokenize"
   ]
  },
  {
   "cell_type": "code",
   "execution_count": 31,
   "id": "5570ad38",
   "metadata": {},
   "outputs": [
    {
     "data": {
      "text/html": [
       "<div>\n",
       "<style scoped>\n",
       "    .dataframe tbody tr th:only-of-type {\n",
       "        vertical-align: middle;\n",
       "    }\n",
       "\n",
       "    .dataframe tbody tr th {\n",
       "        vertical-align: top;\n",
       "    }\n",
       "\n",
       "    .dataframe thead th {\n",
       "        text-align: right;\n",
       "    }\n",
       "</style>\n",
       "<table border=\"1\" class=\"dataframe\">\n",
       "  <thead>\n",
       "    <tr style=\"text-align: right;\">\n",
       "      <th></th>\n",
       "      <th>review</th>\n",
       "      <th>sentiment</th>\n",
       "    </tr>\n",
       "  </thead>\n",
       "  <tbody>\n",
       "    <tr>\n",
       "      <th>0</th>\n",
       "      <td>One of the other reviewers has mentioned that ...</td>\n",
       "      <td>positive</td>\n",
       "    </tr>\n",
       "    <tr>\n",
       "      <th>1</th>\n",
       "      <td>A wonderful little production. &lt;br /&gt;&lt;br /&gt;The...</td>\n",
       "      <td>positive</td>\n",
       "    </tr>\n",
       "    <tr>\n",
       "      <th>2</th>\n",
       "      <td>I thought this was a wonderful way to spend ti...</td>\n",
       "      <td>positive</td>\n",
       "    </tr>\n",
       "    <tr>\n",
       "      <th>3</th>\n",
       "      <td>Basically there's a family where a little boy ...</td>\n",
       "      <td>negative</td>\n",
       "    </tr>\n",
       "    <tr>\n",
       "      <th>4</th>\n",
       "      <td>Petter Mattei's \"Love in the Time of Money\" is...</td>\n",
       "      <td>positive</td>\n",
       "    </tr>\n",
       "  </tbody>\n",
       "</table>\n",
       "</div>"
      ],
      "text/plain": [
       "                                              review sentiment\n",
       "0  One of the other reviewers has mentioned that ...  positive\n",
       "1  A wonderful little production. <br /><br />The...  positive\n",
       "2  I thought this was a wonderful way to spend ti...  positive\n",
       "3  Basically there's a family where a little boy ...  negative\n",
       "4  Petter Mattei's \"Love in the Time of Money\" is...  positive"
      ]
     },
     "execution_count": 31,
     "metadata": {},
     "output_type": "execute_result"
    }
   ],
   "source": [
    "# file_path = '../data/raw/IMDB Dataset.csv/IMDB Dataset.csv'\n",
    "RAW_DATA_PATH = os.path.join('..', 'data', 'raw', 'IMDB Dataset.csv')\n",
    "df = pd.read_csv(RAW_DATA_PATH)\n",
    "df.head()"
   ]
  },
  {
   "cell_type": "code",
   "execution_count": 15,
   "id": "ff2a8b34",
   "metadata": {},
   "outputs": [
    {
     "data": {
      "text/plain": [
       "Index(['review', 'sentiment'], dtype='object')"
      ]
     },
     "execution_count": 15,
     "metadata": {},
     "output_type": "execute_result"
    }
   ],
   "source": [
    "df.columns"
   ]
  },
  {
   "cell_type": "code",
   "execution_count": 16,
   "id": "761b8f9d",
   "metadata": {},
   "outputs": [
    {
     "data": {
      "text/html": [
       "<div>\n",
       "<style scoped>\n",
       "    .dataframe tbody tr th:only-of-type {\n",
       "        vertical-align: middle;\n",
       "    }\n",
       "\n",
       "    .dataframe tbody tr th {\n",
       "        vertical-align: top;\n",
       "    }\n",
       "\n",
       "    .dataframe thead th {\n",
       "        text-align: right;\n",
       "    }\n",
       "</style>\n",
       "<table border=\"1\" class=\"dataframe\">\n",
       "  <thead>\n",
       "    <tr style=\"text-align: right;\">\n",
       "      <th></th>\n",
       "      <th>review</th>\n",
       "      <th>sentiment</th>\n",
       "    </tr>\n",
       "  </thead>\n",
       "  <tbody>\n",
       "    <tr>\n",
       "      <th>count</th>\n",
       "      <td>50000</td>\n",
       "      <td>50000</td>\n",
       "    </tr>\n",
       "    <tr>\n",
       "      <th>unique</th>\n",
       "      <td>49582</td>\n",
       "      <td>2</td>\n",
       "    </tr>\n",
       "    <tr>\n",
       "      <th>top</th>\n",
       "      <td>Loved today's show!!! It was a variety and not...</td>\n",
       "      <td>positive</td>\n",
       "    </tr>\n",
       "    <tr>\n",
       "      <th>freq</th>\n",
       "      <td>5</td>\n",
       "      <td>25000</td>\n",
       "    </tr>\n",
       "  </tbody>\n",
       "</table>\n",
       "</div>"
      ],
      "text/plain": [
       "                                                   review sentiment\n",
       "count                                               50000     50000\n",
       "unique                                              49582         2\n",
       "top     Loved today's show!!! It was a variety and not...  positive\n",
       "freq                                                    5     25000"
      ]
     },
     "execution_count": 16,
     "metadata": {},
     "output_type": "execute_result"
    }
   ],
   "source": [
    "df.describe()"
   ]
  },
  {
   "cell_type": "code",
   "execution_count": 18,
   "id": "6f7a43cd",
   "metadata": {},
   "outputs": [
    {
     "name": "stdout",
     "output_type": "stream",
     "text": [
      "<class 'pandas.core.frame.DataFrame'>\n",
      "RangeIndex: 50000 entries, 0 to 49999\n",
      "Data columns (total 2 columns):\n",
      " #   Column     Non-Null Count  Dtype \n",
      "---  ------     --------------  ----- \n",
      " 0   review     50000 non-null  object\n",
      " 1   sentiment  50000 non-null  object\n",
      "dtypes: object(2)\n",
      "memory usage: 781.4+ KB\n"
     ]
    }
   ],
   "source": [
    "df.info()"
   ]
  },
  {
   "cell_type": "code",
   "execution_count": 19,
   "id": "c3e5b452",
   "metadata": {},
   "outputs": [
    {
     "data": {
      "text/plain": [
       "review       0\n",
       "sentiment    0\n",
       "dtype: int64"
      ]
     },
     "execution_count": 19,
     "metadata": {},
     "output_type": "execute_result"
    }
   ],
   "source": [
    "df.isnull().sum()"
   ]
  },
  {
   "cell_type": "code",
   "execution_count": 28,
   "id": "aa520795",
   "metadata": {},
   "outputs": [],
   "source": [
    "PROCESSED_DATA_PATH = os.path.join('..', 'data', 'experiment', 'IMDB_experiment.csv')"
   ]
  },
  {
   "cell_type": "code",
   "execution_count": 21,
   "id": "20d45e65",
   "metadata": {},
   "outputs": [],
   "source": [
    "# Load the Data\n",
    "def load_data(file_path):\n",
    "\n",
    "    #Loads data from a CSV file into a pandas DataFrame\n",
    "\n",
    "    print(f\"Loading data from: {file_path}\")\n",
    "    try:\n",
    "        df = pd.read_csv(file_path)\n",
    "        print(f\"Data loaded successfully. Shape: {df.shape}\")\n",
    "        return df\n",
    "    except FileNotFoundError:\n",
    "        print(f\"Error: File not found at {file_path}\")\n",
    "        return None\n",
    "    except Exception as e:\n",
    "        print(f\"An error occurred while loading data: {e}\")\n",
    "        return None"
   ]
  },
  {
   "cell_type": "code",
   "execution_count": 23,
   "id": "d6cb5d9c",
   "metadata": {},
   "outputs": [],
   "source": [
    "# Data cleaning\n",
    "def clean_text(text):\n",
    "    # Remove HTML tags\n",
    "    text = re.sub(r'<.*?>', '', text)\n",
    "    # Remove special characters and numbers\n",
    "    text = re.sub(r'[^a-zA-Z\\s]', '', text)\n",
    "    # Convert to lowercase\n",
    "    text = text.lower()\n",
    "    # Remove extra spaces\n",
    "    text = re.sub(r'\\s+', ' ', text).strip()\n",
    "    return text"
   ]
  },
  {
   "cell_type": "code",
   "execution_count": 24,
   "id": "4226753a",
   "metadata": {},
   "outputs": [],
   "source": [
    "def tokenize_text(text):\n",
    "    #Tokenize text into words\n",
    "    return word_tokenize(text)"
   ]
  },
  {
   "cell_type": "code",
   "execution_count": 25,
   "id": "062d9119",
   "metadata": {},
   "outputs": [],
   "source": [
    "def remove_stopwords(words):\n",
    "    \"\"\"Removes common English stopwords from a list of words.\"\"\"\n",
    "    stop_words = set(stopwords.words('english'))\n",
    "    return [word for word in words if word not in stop_words]"
   ]
  },
  {
   "cell_type": "code",
   "execution_count": 26,
   "id": "4743c1bd",
   "metadata": {},
   "outputs": [],
   "source": [
    "def lemmatize_text(words):\n",
    "    \"\"\"Lemmatizes words to their base form.\"\"\"\n",
    "    lemmatizer = WordNetLemmatizer()\n",
    "    return [lemmatizer.lemmatize(word) for word in words]"
   ]
  },
  {
   "cell_type": "code",
   "execution_count": 27,
   "id": "21e4e4cd",
   "metadata": {},
   "outputs": [],
   "source": [
    "# --- Preprocessing Pipeline ---\n",
    "def preprocess_pipeline(df, text_column='review'):\n",
    "    \"\"\"Applies a full preprocessing pipeline to the specified text column.\"\"\"\n",
    "    if df is None:\n",
    "        return None\n",
    "\n",
    "    print(\"Starting text preprocessing pipeline...\")\n",
    "    # Apply cleaning\n",
    "    df['cleaned_review'] = df[text_column].apply(clean_text)\n",
    "    # Apply tokenization\n",
    "    df['tokens'] = df['cleaned_review'].apply(tokenize_text)\n",
    "    # Apply stop word removal\n",
    "    df['tokens_no_stopwords'] = df['tokens'].apply(remove_stopwords)\n",
    "    # Apply lemmatization\n",
    "    df['lemmas'] = df['tokens_no_stopwords'].apply(lemmatize_text)\n",
    "\n",
    "    # Convert list of lemmas back to string for easier storage/analysis if needed\n",
    "    df['processed_text'] = df['lemmas'].apply(lambda x: ' '.join(x))\n",
    "\n",
    "    print(\"Preprocessing complete.\")\n",
    "    return df"
   ]
  },
  {
   "cell_type": "code",
   "execution_count": 30,
   "id": "2aa813f2",
   "metadata": {},
   "outputs": [
    {
     "name": "stdout",
     "output_type": "stream",
     "text": [
      "Loading data from: ..\\data\\raw\\IMDB Dataset.csv\\IMDB Dataset.csv\n",
      "Data loaded successfully. Shape: (50000, 2)\n",
      "Starting text preprocessing pipeline...\n",
      "Preprocessing complete.\n",
      "\n",
      "--- Sample Original vs. Processed Text ---\n",
      "                                              review  \\\n",
      "0  One of the other reviewers has mentioned that ...   \n",
      "1  A wonderful little production. <br /><br />The...   \n",
      "2  I thought this was a wonderful way to spend ti...   \n",
      "3  Basically there's a family where a little boy ...   \n",
      "4  Petter Mattei's \"Love in the Time of Money\" is...   \n",
      "\n",
      "                                      processed_text  \n",
      "0  one reviewer mentioned watching oz episode you...  \n",
      "1  wonderful little production filming technique ...  \n",
      "2  thought wonderful way spend time hot summer we...  \n",
      "3  basically there family little boy jake think t...  \n",
      "4  petter matteis love time money visually stunni...  \n",
      "\n",
      "--- Token Counts Sample ---\n",
      "   original_token_count  processed_token_count\n",
      "0                   300                    167\n",
      "1                   156                     84\n",
      "2                   161                     85\n",
      "3                   128                     66\n",
      "4                   222                    125\n",
      "\n",
      "Processed data saved to: ..\\data\\experiment\\IMDB_experiment.csv\n",
      "Columns in processed DataFrame: ['review', 'sentiment', 'cleaned_review', 'tokens', 'tokens_no_stopwords', 'lemmas', 'processed_text', 'original_token_count', 'processed_token_count']\n"
     ]
    }
   ],
   "source": [
    "# --- Main Execution Block ---\n",
    "if __name__ == \"__main__\":\n",
    "    # Load the data\n",
    "    df = load_data(RAW_DATA_PATH)\n",
    "\n",
    "    if df is not None:\n",
    "        # Preprocess the data\n",
    "        processed_df = preprocess_pipeline(df.copy()) # Use a copy to avoid modifying original df\n",
    "\n",
    "        if processed_df is not None:\n",
    "            # Display sample of original and processed text\n",
    "            print(\"\\n--- Sample Original vs. Processed Text ---\")\n",
    "            print(processed_df[['review', 'processed_text']].head())\n",
    "\n",
    "            # Display counts of tokens before/after stopword removal and lemmatization\n",
    "            print(\"\\n--- Token Counts Sample ---\")\n",
    "            processed_df['original_token_count'] = processed_df['tokens'].apply(len)\n",
    "            processed_df['processed_token_count'] = processed_df['lemmas'].apply(len)\n",
    "            print(processed_df[['original_token_count', 'processed_token_count']].head())\n",
    "\n",
    "            # Save the processed data\n",
    "            # Ensure the processed directory exists\n",
    "            os.makedirs(os.path.dirname(PROCESSED_DATA_PATH), exist_ok=True)\n",
    "            processed_df.to_csv(PROCESSED_DATA_PATH, index=False)\n",
    "            print(f\"\\nProcessed data saved to: {PROCESSED_DATA_PATH}\")\n",
    "            print(\"Columns in processed DataFrame:\", processed_df.columns.tolist())"
   ]
  },
  {
   "cell_type": "code",
   "execution_count": 32,
   "id": "509c0243",
   "metadata": {},
   "outputs": [],
   "source": [
    "df1 = pd.read_csv(PROCESSED_DATA_PATH)"
   ]
  },
  {
   "cell_type": "code",
   "execution_count": 34,
   "id": "fdd07b62",
   "metadata": {},
   "outputs": [
    {
     "data": {
      "text/plain": [
       "Index(['review', 'sentiment', 'cleaned_review', 'tokens',\n",
       "       'tokens_no_stopwords', 'lemmas', 'processed_text',\n",
       "       'original_token_count', 'processed_token_count'],\n",
       "      dtype='object')"
      ]
     },
     "execution_count": 34,
     "metadata": {},
     "output_type": "execute_result"
    }
   ],
   "source": [
    "df1.columns"
   ]
  },
  {
   "cell_type": "code",
   "execution_count": 35,
   "id": "5b439fb7",
   "metadata": {},
   "outputs": [
    {
     "data": {
      "text/html": [
       "<div>\n",
       "<style scoped>\n",
       "    .dataframe tbody tr th:only-of-type {\n",
       "        vertical-align: middle;\n",
       "    }\n",
       "\n",
       "    .dataframe tbody tr th {\n",
       "        vertical-align: top;\n",
       "    }\n",
       "\n",
       "    .dataframe thead th {\n",
       "        text-align: right;\n",
       "    }\n",
       "</style>\n",
       "<table border=\"1\" class=\"dataframe\">\n",
       "  <thead>\n",
       "    <tr style=\"text-align: right;\">\n",
       "      <th></th>\n",
       "      <th>review</th>\n",
       "      <th>sentiment</th>\n",
       "      <th>cleaned_review</th>\n",
       "      <th>tokens</th>\n",
       "      <th>tokens_no_stopwords</th>\n",
       "      <th>lemmas</th>\n",
       "      <th>processed_text</th>\n",
       "      <th>original_token_count</th>\n",
       "      <th>processed_token_count</th>\n",
       "    </tr>\n",
       "  </thead>\n",
       "  <tbody>\n",
       "    <tr>\n",
       "      <th>0</th>\n",
       "      <td>One of the other reviewers has mentioned that ...</td>\n",
       "      <td>positive</td>\n",
       "      <td>one of the other reviewers has mentioned that ...</td>\n",
       "      <td>['one', 'of', 'the', 'other', 'reviewers', 'ha...</td>\n",
       "      <td>['one', 'reviewers', 'mentioned', 'watching', ...</td>\n",
       "      <td>['one', 'reviewer', 'mentioned', 'watching', '...</td>\n",
       "      <td>one reviewer mentioned watching oz episode you...</td>\n",
       "      <td>300</td>\n",
       "      <td>167</td>\n",
       "    </tr>\n",
       "    <tr>\n",
       "      <th>1</th>\n",
       "      <td>A wonderful little production. &lt;br /&gt;&lt;br /&gt;The...</td>\n",
       "      <td>positive</td>\n",
       "      <td>a wonderful little production the filming tech...</td>\n",
       "      <td>['a', 'wonderful', 'little', 'production', 'th...</td>\n",
       "      <td>['wonderful', 'little', 'production', 'filming...</td>\n",
       "      <td>['wonderful', 'little', 'production', 'filming...</td>\n",
       "      <td>wonderful little production filming technique ...</td>\n",
       "      <td>156</td>\n",
       "      <td>84</td>\n",
       "    </tr>\n",
       "    <tr>\n",
       "      <th>2</th>\n",
       "      <td>I thought this was a wonderful way to spend ti...</td>\n",
       "      <td>positive</td>\n",
       "      <td>i thought this was a wonderful way to spend ti...</td>\n",
       "      <td>['i', 'thought', 'this', 'was', 'a', 'wonderfu...</td>\n",
       "      <td>['thought', 'wonderful', 'way', 'spend', 'time...</td>\n",
       "      <td>['thought', 'wonderful', 'way', 'spend', 'time...</td>\n",
       "      <td>thought wonderful way spend time hot summer we...</td>\n",
       "      <td>161</td>\n",
       "      <td>85</td>\n",
       "    </tr>\n",
       "    <tr>\n",
       "      <th>3</th>\n",
       "      <td>Basically there's a family where a little boy ...</td>\n",
       "      <td>negative</td>\n",
       "      <td>basically theres a family where a little boy j...</td>\n",
       "      <td>['basically', 'theres', 'a', 'family', 'where'...</td>\n",
       "      <td>['basically', 'theres', 'family', 'little', 'b...</td>\n",
       "      <td>['basically', 'there', 'family', 'little', 'bo...</td>\n",
       "      <td>basically there family little boy jake think t...</td>\n",
       "      <td>128</td>\n",
       "      <td>66</td>\n",
       "    </tr>\n",
       "    <tr>\n",
       "      <th>4</th>\n",
       "      <td>Petter Mattei's \"Love in the Time of Money\" is...</td>\n",
       "      <td>positive</td>\n",
       "      <td>petter matteis love in the time of money is a ...</td>\n",
       "      <td>['petter', 'matteis', 'love', 'in', 'the', 'ti...</td>\n",
       "      <td>['petter', 'matteis', 'love', 'time', 'money',...</td>\n",
       "      <td>['petter', 'matteis', 'love', 'time', 'money',...</td>\n",
       "      <td>petter matteis love time money visually stunni...</td>\n",
       "      <td>222</td>\n",
       "      <td>125</td>\n",
       "    </tr>\n",
       "  </tbody>\n",
       "</table>\n",
       "</div>"
      ],
      "text/plain": [
       "                                              review sentiment  \\\n",
       "0  One of the other reviewers has mentioned that ...  positive   \n",
       "1  A wonderful little production. <br /><br />The...  positive   \n",
       "2  I thought this was a wonderful way to spend ti...  positive   \n",
       "3  Basically there's a family where a little boy ...  negative   \n",
       "4  Petter Mattei's \"Love in the Time of Money\" is...  positive   \n",
       "\n",
       "                                      cleaned_review  \\\n",
       "0  one of the other reviewers has mentioned that ...   \n",
       "1  a wonderful little production the filming tech...   \n",
       "2  i thought this was a wonderful way to spend ti...   \n",
       "3  basically theres a family where a little boy j...   \n",
       "4  petter matteis love in the time of money is a ...   \n",
       "\n",
       "                                              tokens  \\\n",
       "0  ['one', 'of', 'the', 'other', 'reviewers', 'ha...   \n",
       "1  ['a', 'wonderful', 'little', 'production', 'th...   \n",
       "2  ['i', 'thought', 'this', 'was', 'a', 'wonderfu...   \n",
       "3  ['basically', 'theres', 'a', 'family', 'where'...   \n",
       "4  ['petter', 'matteis', 'love', 'in', 'the', 'ti...   \n",
       "\n",
       "                                 tokens_no_stopwords  \\\n",
       "0  ['one', 'reviewers', 'mentioned', 'watching', ...   \n",
       "1  ['wonderful', 'little', 'production', 'filming...   \n",
       "2  ['thought', 'wonderful', 'way', 'spend', 'time...   \n",
       "3  ['basically', 'theres', 'family', 'little', 'b...   \n",
       "4  ['petter', 'matteis', 'love', 'time', 'money',...   \n",
       "\n",
       "                                              lemmas  \\\n",
       "0  ['one', 'reviewer', 'mentioned', 'watching', '...   \n",
       "1  ['wonderful', 'little', 'production', 'filming...   \n",
       "2  ['thought', 'wonderful', 'way', 'spend', 'time...   \n",
       "3  ['basically', 'there', 'family', 'little', 'bo...   \n",
       "4  ['petter', 'matteis', 'love', 'time', 'money',...   \n",
       "\n",
       "                                      processed_text  original_token_count  \\\n",
       "0  one reviewer mentioned watching oz episode you...                   300   \n",
       "1  wonderful little production filming technique ...                   156   \n",
       "2  thought wonderful way spend time hot summer we...                   161   \n",
       "3  basically there family little boy jake think t...                   128   \n",
       "4  petter matteis love time money visually stunni...                   222   \n",
       "\n",
       "   processed_token_count  \n",
       "0                    167  \n",
       "1                     84  \n",
       "2                     85  \n",
       "3                     66  \n",
       "4                    125  "
      ]
     },
     "execution_count": 35,
     "metadata": {},
     "output_type": "execute_result"
    }
   ],
   "source": [
    "df1.head()"
   ]
  },
  {
   "cell_type": "code",
   "execution_count": null,
   "id": "1a143428",
   "metadata": {},
   "outputs": [],
   "source": []
  }
 ],
 "metadata": {
  "kernelspec": {
   "display_name": "myvenv",
   "language": "python",
   "name": "python3"
  },
  "language_info": {
   "codemirror_mode": {
    "name": "ipython",
    "version": 3
   },
   "file_extension": ".py",
   "mimetype": "text/x-python",
   "name": "python",
   "nbconvert_exporter": "python",
   "pygments_lexer": "ipython3",
   "version": "3.13.5"
  }
 },
 "nbformat": 4,
 "nbformat_minor": 5
}
